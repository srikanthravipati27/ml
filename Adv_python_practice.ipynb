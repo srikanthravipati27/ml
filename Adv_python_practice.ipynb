{
  "nbformat": 4,
  "nbformat_minor": 0,
  "metadata": {
    "colab": {
      "provenance": [],
      "authorship_tag": "ABX9TyNzU0VUM0eS6PZtd0fcMaop",
      "include_colab_link": true
    },
    "kernelspec": {
      "name": "python3",
      "display_name": "Python 3"
    },
    "language_info": {
      "name": "python"
    }
  },
  "cells": [
    {
      "cell_type": "markdown",
      "metadata": {
        "id": "view-in-github",
        "colab_type": "text"
      },
      "source": [
        "<a href=\"https://colab.research.google.com/github/srikanthravipati27/ml/blob/main/Adv_python_practice.ipynb\" target=\"_parent\"><img src=\"https://colab.research.google.com/assets/colab-badge.svg\" alt=\"Open In Colab\"/></a>"
      ]
    },
    {
      "cell_type": "code",
      "execution_count": 1,
      "metadata": {
        "colab": {
          "base_uri": "https://localhost:8080/"
        },
        "id": "PDskKA837VbN",
        "outputId": "c1d86f4f-bcfa-4722-d145-e225c24a9557"
      },
      "outputs": [
        {
          "output_type": "stream",
          "name": "stdout",
          "text": [
            "addition start\n",
            "9\n",
            "completed\n"
          ]
        }
      ],
      "source": [
        "def decorators(func):\n",
        "  def wrapper(*args,**kwargs):\n",
        "    print(\"addition start\")\n",
        "    func(*args,**kwargs)\n",
        "    print(\"completed\")\n",
        "  return wrapper\n",
        "@decorators\n",
        "def add(a,b):\n",
        "  print(a+b)\n",
        "add(4,5)\n",
        "\n"
      ]
    },
    {
      "cell_type": "code",
      "source": [
        "#the above same as\n",
        "def decorators(func):\n",
        "  def wrapper(*args,**kwargs):\n",
        "    print(\"addition start\")\n",
        "    func(*args,**kwargs)\n",
        "    print(kwargs)\n",
        "    print(\"completed\")\n",
        "  return wrapper\n",
        "\n",
        "def add(a,b):\n",
        "  print(a+b)\n",
        "add=decorators(add)\n",
        "add(4,b=5)"
      ],
      "metadata": {
        "colab": {
          "base_uri": "https://localhost:8080/"
        },
        "id": "NH4Y0UHq8KaF",
        "outputId": "4a95efe5-6a3a-4c68-cb25-b79e7bf9d8d0"
      },
      "execution_count": 7,
      "outputs": [
        {
          "output_type": "stream",
          "name": "stdout",
          "text": [
            "addition start\n",
            "9\n",
            "{'b': 5}\n",
            "completed\n"
          ]
        }
      ]
    },
    {
      "cell_type": "code",
      "source": [
        "#custom iterator\n",
        "class countdown:\n",
        "  def __init__(self,start,end):\n",
        "    self.num=start\n",
        "    self.end=end\n",
        "  def __iter__(self):\n",
        "    return self\n",
        "  def __next__(self):\n",
        "    if self.num==self.end:\n",
        "      raise StopIteration\n",
        "    else:\n",
        "      self.num+=1\n",
        "      return self.num\n",
        "\n",
        "count=countdown(3,9)\n",
        "\n",
        "for i in count:\n",
        "  print(i)\n",
        "\n",
        ""
      ],
      "metadata": {
        "colab": {
          "base_uri": "https://localhost:8080/"
        },
        "id": "A7IuhMk_A9jt",
        "outputId": "560a6fd9-1b1a-4cca-f774-04f52052499a"
      },
      "execution_count": 13,
      "outputs": [
        {
          "output_type": "stream",
          "name": "stdout",
          "text": [
            "4\n",
            "5\n",
            "6\n",
            "7\n",
            "8\n",
            "9\n"
          ]
        }
      ]
    },
    {
      "cell_type": "code",
      "source": [
        "#generators\n",
        "def simp_gen():\n",
        "  yield 1\n",
        "  yield 2\n",
        "print(type(simp_gen()))\n",
        "print(next(simp_gen()))\n",
        "gen=simp_gen()\n",
        "print(type(gen))\n",
        "print(next(gen))\n",
        "print(next(gen))"
      ],
      "metadata": {
        "colab": {
          "base_uri": "https://localhost:8080/"
        },
        "id": "zyqenCmpKKOP",
        "outputId": "29230699-81c8-4323-81c9-6d7ff8343a4f"
      },
      "execution_count": 15,
      "outputs": [
        {
          "output_type": "stream",
          "name": "stdout",
          "text": [
            "<class 'generator'>\n",
            "1\n",
            "<class 'generator'>\n",
            "1\n",
            "2\n"
          ]
        }
      ]
    },
    {
      "cell_type": "code",
      "source": [
        "def serial():\n",
        "  s=0\n",
        "  while True:\n",
        "    yield s\n",
        "    s+=1\n",
        "se=serial()\n",
        "for i in range(5):\n",
        "  print(next(se))"
      ],
      "metadata": {
        "colab": {
          "base_uri": "https://localhost:8080/"
        },
        "id": "SW7dSj0_NkT0",
        "outputId": "7b7e3ea3-51ac-40fd-d2c9-fb3f63968855"
      },
      "execution_count": 16,
      "outputs": [
        {
          "output_type": "stream",
          "name": "stdout",
          "text": [
            "0\n",
            "1\n",
            "2\n",
            "3\n",
            "4\n"
          ]
        }
      ]
    },
    {
      "cell_type": "code",
      "source": [
        "#anonymous or lambda function\n",
        "square=lambda x:x**2\n",
        "print(square(3))"
      ],
      "metadata": {
        "colab": {
          "base_uri": "https://localhost:8080/"
        },
        "id": "tyhF-ICCREMW",
        "outputId": "dc49a3dd-17fb-4680-ca25-f6b56997da40"
      },
      "execution_count": 17,
      "outputs": [
        {
          "output_type": "stream",
          "name": "stdout",
          "text": [
            "9\n"
          ]
        }
      ]
    },
    {
      "cell_type": "code",
      "source": [
        "lis=[\"abc\",\"abcd\",\"ab\",\"a\"]\n",
        "lis.sort(key=lambda x:len(x))\n",
        "lis"
      ],
      "metadata": {
        "colab": {
          "base_uri": "https://localhost:8080/"
        },
        "id": "Jgc0VtNHR1g-",
        "outputId": "7cefedfd-1f17-4238-f3d9-519b2e66cf7e"
      },
      "execution_count": 18,
      "outputs": [
        {
          "output_type": "execute_result",
          "data": {
            "text/plain": [
              "['a', 'ab', 'abc', 'abcd']"
            ]
          },
          "metadata": {},
          "execution_count": 18
        }
      ]
    },
    {
      "cell_type": "code",
      "source": [
        "#oops\n",
        "class abc:\n",
        "  def __init__(self):\n",
        "    print(id(self))\n",
        "obj1=abc()\n",
        "print(id(obj1))\n",
        "obj2=abc()\n",
        "print(id(obj2))"
      ],
      "metadata": {
        "colab": {
          "base_uri": "https://localhost:8080/"
        },
        "id": "zqj1GeawU3hK",
        "outputId": "8c8a4803-b80a-406b-e3e0-0ff0aad90578"
      },
      "execution_count": 20,
      "outputs": [
        {
          "output_type": "stream",
          "name": "stdout",
          "text": [
            "138786718667920\n",
            "138786718667920\n",
            "138786718672336\n",
            "138786718672336\n"
          ]
        }
      ]
    },
    {
      "cell_type": "code",
      "source": [
        "class ab:\n",
        "  def __init__(self,a,b):\n",
        "    self.a=a\n",
        "    self.c=b\n",
        "  def add(self):\n",
        "    print(id(self))\n",
        "    print(self.a+self.c)\n",
        "ob1=ab(3,4)\n",
        "print(id(ob1))\n",
        "ob1.add()"
      ],
      "metadata": {
        "colab": {
          "base_uri": "https://localhost:8080/"
        },
        "id": "wCHKgI2Kcla_",
        "outputId": "1a504efa-2ca4-48f2-9256-51b163ec41d4"
      },
      "execution_count": 23,
      "outputs": [
        {
          "output_type": "stream",
          "name": "stdout",
          "text": [
            "138786717423440\n",
            "138786717423440\n",
            "7\n"
          ]
        }
      ]
    },
    {
      "cell_type": "code",
      "source": [],
      "metadata": {
        "id": "SDRUjg8OdHlo"
      },
      "execution_count": null,
      "outputs": []
    }
  ]
}