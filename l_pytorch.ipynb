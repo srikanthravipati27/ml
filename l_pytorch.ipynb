{
  "nbformat": 4,
  "nbformat_minor": 0,
  "metadata": {
    "colab": {
      "provenance": [],
      "authorship_tag": "ABX9TyMG4Q4HadyxUzFvPa/a742y",
      "include_colab_link": true
    },
    "kernelspec": {
      "name": "python3",
      "display_name": "Python 3"
    },
    "language_info": {
      "name": "python"
    }
  },
  "cells": [
    {
      "cell_type": "markdown",
      "metadata": {
        "id": "view-in-github",
        "colab_type": "text"
      },
      "source": [
        "<a href=\"https://colab.research.google.com/github/srikanthravipati27/ml/blob/main/l_pytorch.ipynb\" target=\"_parent\"><img src=\"https://colab.research.google.com/assets/colab-badge.svg\" alt=\"Open In Colab\"/></a>"
      ]
    },
    {
      "cell_type": "code",
      "execution_count": 2,
      "metadata": {
        "id": "oMCVlVU2kXZG"
      },
      "outputs": [],
      "source": [
        "import torch"
      ]
    },
    {
      "cell_type": "code",
      "source": [
        "a=torch.empty(2,3)"
      ],
      "metadata": {
        "id": "KyWWHMgulTpp"
      },
      "execution_count": 3,
      "outputs": []
    },
    {
      "cell_type": "code",
      "source": [
        "type(a)"
      ],
      "metadata": {
        "colab": {
          "base_uri": "https://localhost:8080/"
        },
        "id": "lhIWj1OMldx_",
        "outputId": "ea879dc5-5970-47ff-db6c-4e167894082c"
      },
      "execution_count": 4,
      "outputs": [
        {
          "output_type": "execute_result",
          "data": {
            "text/plain": [
              "torch.Tensor"
            ]
          },
          "metadata": {},
          "execution_count": 4
        }
      ]
    },
    {
      "cell_type": "code",
      "source": [
        "torch.zeros(1,3)"
      ],
      "metadata": {
        "colab": {
          "base_uri": "https://localhost:8080/"
        },
        "id": "oJMJB6QFlknZ",
        "outputId": "ed717487-3971-4363-b26b-bdd9f3a4b59f"
      },
      "execution_count": 5,
      "outputs": [
        {
          "output_type": "execute_result",
          "data": {
            "text/plain": [
              "tensor([[0., 0., 0.]])"
            ]
          },
          "metadata": {},
          "execution_count": 5
        }
      ]
    },
    {
      "cell_type": "code",
      "source": [
        "torch.ones(1,3)"
      ],
      "metadata": {
        "id": "5pSerkzwlrCl",
        "outputId": "44be5a25-4e65-443d-c00c-3dd04ca89415",
        "colab": {
          "base_uri": "https://localhost:8080/"
        }
      },
      "execution_count": 6,
      "outputs": [
        {
          "output_type": "execute_result",
          "data": {
            "text/plain": [
              "tensor([[1., 1., 1.]])"
            ]
          },
          "metadata": {},
          "execution_count": 6
        }
      ]
    },
    {
      "cell_type": "code",
      "source": [
        "w=torch.randn(8,1,requires_grad=True)\n",
        "print(w)"
      ],
      "metadata": {
        "colab": {
          "base_uri": "https://localhost:8080/"
        },
        "id": "AbSJiBxr_rT_",
        "outputId": "6304d9c8-d509-48cd-9953-bd4202f4c44f"
      },
      "execution_count": 7,
      "outputs": [
        {
          "output_type": "stream",
          "name": "stdout",
          "text": [
            "tensor([[-0.7574],\n",
            "        [ 1.8790],\n",
            "        [ 0.0338],\n",
            "        [ 1.2144],\n",
            "        [-0.9445],\n",
            "        [-0.3091],\n",
            "        [-1.4177],\n",
            "        [ 0.8380]], requires_grad=True)\n"
          ]
        }
      ]
    },
    {
      "cell_type": "code",
      "source": [
        "b=torch.randn(1,requires_grad=True)\n",
        "print(b)"
      ],
      "metadata": {
        "colab": {
          "base_uri": "https://localhost:8080/"
        },
        "id": "FggDfK_y_54z",
        "outputId": "47245f0c-a4a8-4d39-b4f7-1b51324aa3d3"
      },
      "execution_count": 8,
      "outputs": [
        {
          "output_type": "stream",
          "name": "stdout",
          "text": [
            "tensor([0.7284], requires_grad=True)\n"
          ]
        }
      ]
    },
    {
      "cell_type": "code",
      "source": [
        "import torch\n",
        "import torch.nn as nn\n",
        "\n",
        "# Simple model: 3 inputs → 1 output (linear layer)\n",
        "layer = nn.Linear(3, 1)\n",
        "\n",
        "# Dummy input (1 sample, 3 features)\n",
        "x = torch.tensor([[1.0, 2.0, 3.0]])\n",
        "\n",
        "# Dummy target\n",
        "y = torch.tensor([[1.0]])\n",
        "\n",
        "# Loss function\n",
        "criterion = nn.BCELoss()\n",
        "\n",
        "# Forward pass\n",
        "y_pred = torch.sigmoid(layer(x))\n",
        "loss = criterion(y_pred, y)\n",
        "\n",
        "# Backward pass\n",
        "loss.backward()\n",
        "\n",
        "# Print weights, biases, and their gradients\n",
        "print(\"Weights:\", layer.weight.data)\n",
        "print(\"Bias:\", layer.bias.data)\n",
        "print(\"Gradients of weights:\", layer.weight.grad)\n",
        "print(\"Gradients of bias:\", layer.bias.grad)\n"
      ],
      "metadata": {
        "colab": {
          "base_uri": "https://localhost:8080/"
        },
        "id": "g86XZ1BhHA1Z",
        "outputId": "753dec5a-092f-470f-d396-d2e6057316db"
      },
      "execution_count": 9,
      "outputs": [
        {
          "output_type": "stream",
          "name": "stdout",
          "text": [
            "Weights: tensor([[-0.1646, -0.0971, -0.1420]])\n",
            "Bias: tensor([0.1938])\n",
            "Gradients of weights: tensor([[-0.6436, -1.2872, -1.9307]])\n",
            "Gradients of bias: tensor([-0.6436])\n"
          ]
        }
      ]
    }
  ]
}