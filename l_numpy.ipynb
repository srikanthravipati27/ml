{
  "nbformat": 4,
  "nbformat_minor": 0,
  "metadata": {
    "colab": {
      "provenance": [],
      "authorship_tag": "ABX9TyNz2ZMyhxLCFunGNDB1NyyW",
      "include_colab_link": true
    },
    "kernelspec": {
      "name": "python3",
      "display_name": "Python 3"
    },
    "language_info": {
      "name": "python"
    }
  },
  "cells": [
    {
      "cell_type": "markdown",
      "metadata": {
        "id": "view-in-github",
        "colab_type": "text"
      },
      "source": [
        "<a href=\"https://colab.research.google.com/github/srikanthravipati27/ml/blob/main/l_numpy.ipynb\" target=\"_parent\"><img src=\"https://colab.research.google.com/assets/colab-badge.svg\" alt=\"Open In Colab\"/></a>"
      ]
    },
    {
      "cell_type": "code",
      "execution_count": null,
      "metadata": {
        "colab": {
          "base_uri": "https://localhost:8080/"
        },
        "id": "TrESZ4XWGViB",
        "outputId": "68a4313c-9873-43da-c7e6-0fd0028e0090"
      },
      "outputs": [
        {
          "output_type": "execute_result",
          "data": {
            "text/plain": [
              "array([[[ 1,  2,  3],\n",
              "        [ 4,  5,  6]],\n",
              "\n",
              "       [[ 6,  7,  8],\n",
              "        [10, 11, 12]]])"
            ]
          },
          "metadata": {},
          "execution_count": 15
        }
      ],
      "source": [
        "import numpy as np\n",
        "arr1=np.array([1,2,3,4,5.0],dtype=np.int8)\n",
        "arr2=np.array([[1,2,3,4],[5,6,7,8],[9,10,11,12],[13,14,15,16]],dtype=complex)\n",
        "arr3=np.array([[[1,2,3],[4,5,6]],[[6,7,8],[10,11,12]]])\n",
        "arr3"
      ]
    },
    {
      "cell_type": "code",
      "source": [
        "print(arr1.ndim)\n",
        "print(arr2.ndim)\n",
        "print(arr3.ndim)\n",
        "print(arr1.shape)\n",
        "print(arr2.shape)\n",
        "print(arr3.shape)\n",
        "arr2"
      ],
      "metadata": {
        "colab": {
          "base_uri": "https://localhost:8080/"
        },
        "id": "n0MT7n8PjrnJ",
        "outputId": "8ee99cd0-c6e4-4bb4-8570-2cec213545f4"
      },
      "execution_count": null,
      "outputs": [
        {
          "output_type": "stream",
          "name": "stdout",
          "text": [
            "1\n",
            "2\n",
            "3\n",
            "(5,)\n",
            "(4, 4)\n",
            "(2, 2, 3)\n"
          ]
        },
        {
          "output_type": "execute_result",
          "data": {
            "text/plain": [
              "array([[ 1.+0.j,  2.+0.j,  3.+0.j,  4.+0.j],\n",
              "       [ 5.+0.j,  6.+0.j,  7.+0.j,  8.+0.j],\n",
              "       [ 9.+0.j, 10.+0.j, 11.+0.j, 12.+0.j],\n",
              "       [13.+0.j, 14.+0.j, 15.+0.j, 16.+0.j]])"
            ]
          },
          "metadata": {},
          "execution_count": 16
        }
      ]
    },
    {
      "cell_type": "code",
      "source": [
        "arr1.dtype.itemsize  #"
      ],
      "metadata": {
        "colab": {
          "base_uri": "https://localhost:8080/"
        },
        "id": "csYjtdpXn3N7",
        "outputId": "1756610e-6db0-4601-eef4-bf83a361325c"
      },
      "execution_count": null,
      "outputs": [
        {
          "output_type": "execute_result",
          "data": {
            "text/plain": [
              "1"
            ]
          },
          "metadata": {},
          "execution_count": 13
        }
      ]
    },
    {
      "cell_type": "code",
      "source": [
        "arr1.data"
      ],
      "metadata": {
        "colab": {
          "base_uri": "https://localhost:8080/"
        },
        "id": "3tWKkNHho4XK",
        "outputId": "17fb9d61-a2c0-48d6-e1de-30b3edb668f7"
      },
      "execution_count": null,
      "outputs": [
        {
          "output_type": "execute_result",
          "data": {
            "text/plain": [
              "<memory at 0x7847ca54a2c0>"
            ]
          },
          "metadata": {},
          "execution_count": 14
        }
      ]
    },
    {
      "cell_type": "code",
      "source": [
        "np.empty((2,3),dtype=int)"
      ],
      "metadata": {
        "colab": {
          "base_uri": "https://localhost:8080/"
        },
        "id": "UM_4wPG2qDry",
        "outputId": "70affd30-6af9-4631-86d0-14a016f496f5"
      },
      "execution_count": null,
      "outputs": [
        {
          "output_type": "execute_result",
          "data": {
            "text/plain": [
              "array([[          786645557,                   0,           785793744],\n",
              "       [    132250169294080, 7092993904109055776, 7022303889196279146]])"
            ]
          },
          "metadata": {},
          "execution_count": 18
        }
      ]
    },
    {
      "cell_type": "code",
      "source": [
        "np.arange(5,30,4,dtype=float)\n",
        "np.arange(0,2,0.9)"
      ],
      "metadata": {
        "colab": {
          "base_uri": "https://localhost:8080/"
        },
        "id": "cM1HFRJoqvQI",
        "outputId": "eb689a91-2724-4763-e848-6830dd0e30f9"
      },
      "execution_count": null,
      "outputs": [
        {
          "output_type": "execute_result",
          "data": {
            "text/plain": [
              "array([0. , 0.9, 1.8])"
            ]
          },
          "metadata": {},
          "execution_count": 27
        }
      ]
    },
    {
      "cell_type": "code",
      "source": [
        "from numpy import pi\n",
        "np.linspace(0, 2, 9)\n",
        "x = np.linspace(0, 2 * pi, 100)\n",
        "f = np.sin(x)\n",
        "print(x)\n",
        "print(f)"
      ],
      "metadata": {
        "colab": {
          "base_uri": "https://localhost:8080/"
        },
        "id": "DVVvJzRFslRY",
        "outputId": "3a7df97c-cfa2-436a-c8e9-d9ba8d5f0525"
      },
      "execution_count": null,
      "outputs": [
        {
          "output_type": "stream",
          "name": "stdout",
          "text": [
            "[0.         0.06346652 0.12693304 0.19039955 0.25386607 0.31733259\n",
            " 0.38079911 0.44426563 0.50773215 0.57119866 0.63466518 0.6981317\n",
            " 0.76159822 0.82506474 0.88853126 0.95199777 1.01546429 1.07893081\n",
            " 1.14239733 1.20586385 1.26933037 1.33279688 1.3962634  1.45972992\n",
            " 1.52319644 1.58666296 1.65012947 1.71359599 1.77706251 1.84052903\n",
            " 1.90399555 1.96746207 2.03092858 2.0943951  2.15786162 2.22132814\n",
            " 2.28479466 2.34826118 2.41172769 2.47519421 2.53866073 2.60212725\n",
            " 2.66559377 2.72906028 2.7925268  2.85599332 2.91945984 2.98292636\n",
            " 3.04639288 3.10985939 3.17332591 3.23679243 3.30025895 3.36372547\n",
            " 3.42719199 3.4906585  3.55412502 3.61759154 3.68105806 3.74452458\n",
            " 3.8079911  3.87145761 3.93492413 3.99839065 4.06185717 4.12532369\n",
            " 4.1887902  4.25225672 4.31572324 4.37918976 4.44265628 4.5061228\n",
            " 4.56958931 4.63305583 4.69652235 4.75998887 4.82345539 4.88692191\n",
            " 4.95038842 5.01385494 5.07732146 5.14078798 5.2042545  5.26772102\n",
            " 5.33118753 5.39465405 5.45812057 5.52158709 5.58505361 5.64852012\n",
            " 5.71198664 5.77545316 5.83891968 5.9023862  5.96585272 6.02931923\n",
            " 6.09278575 6.15625227 6.21971879 6.28318531]\n",
            "[ 0.00000000e+00  6.34239197e-02  1.26592454e-01  1.89251244e-01\n",
            "  2.51147987e-01  3.12033446e-01  3.71662456e-01  4.29794912e-01\n",
            "  4.86196736e-01  5.40640817e-01  5.92907929e-01  6.42787610e-01\n",
            "  6.90079011e-01  7.34591709e-01  7.76146464e-01  8.14575952e-01\n",
            "  8.49725430e-01  8.81453363e-01  9.09631995e-01  9.34147860e-01\n",
            "  9.54902241e-01  9.71811568e-01  9.84807753e-01  9.93838464e-01\n",
            "  9.98867339e-01  9.99874128e-01  9.96854776e-01  9.89821442e-01\n",
            "  9.78802446e-01  9.63842159e-01  9.45000819e-01  9.22354294e-01\n",
            "  8.95993774e-01  8.66025404e-01  8.32569855e-01  7.95761841e-01\n",
            "  7.55749574e-01  7.12694171e-01  6.66769001e-01  6.18158986e-01\n",
            "  5.67059864e-01  5.13677392e-01  4.58226522e-01  4.00930535e-01\n",
            "  3.42020143e-01  2.81732557e-01  2.20310533e-01  1.58001396e-01\n",
            "  9.50560433e-02  3.17279335e-02 -3.17279335e-02 -9.50560433e-02\n",
            " -1.58001396e-01 -2.20310533e-01 -2.81732557e-01 -3.42020143e-01\n",
            " -4.00930535e-01 -4.58226522e-01 -5.13677392e-01 -5.67059864e-01\n",
            " -6.18158986e-01 -6.66769001e-01 -7.12694171e-01 -7.55749574e-01\n",
            " -7.95761841e-01 -8.32569855e-01 -8.66025404e-01 -8.95993774e-01\n",
            " -9.22354294e-01 -9.45000819e-01 -9.63842159e-01 -9.78802446e-01\n",
            " -9.89821442e-01 -9.96854776e-01 -9.99874128e-01 -9.98867339e-01\n",
            " -9.93838464e-01 -9.84807753e-01 -9.71811568e-01 -9.54902241e-01\n",
            " -9.34147860e-01 -9.09631995e-01 -8.81453363e-01 -8.49725430e-01\n",
            " -8.14575952e-01 -7.76146464e-01 -7.34591709e-01 -6.90079011e-01\n",
            " -6.42787610e-01 -5.92907929e-01 -5.40640817e-01 -4.86196736e-01\n",
            " -4.29794912e-01 -3.71662456e-01 -3.12033446e-01 -2.51147987e-01\n",
            " -1.89251244e-01 -1.26592454e-01 -6.34239197e-02 -2.44929360e-16]\n"
          ]
        }
      ]
    },
    {
      "cell_type": "code",
      "source": [
        "np.fromfunction(lambda i, j: 10*i + j, (3, 3))\n"
      ],
      "metadata": {
        "colab": {
          "base_uri": "https://localhost:8080/"
        },
        "id": "khjVv9I3stjh",
        "outputId": "096ce7e5-310c-4887-bb0b-66bc6790e2b7"
      },
      "execution_count": null,
      "outputs": [
        {
          "output_type": "execute_result",
          "data": {
            "text/plain": [
              "array([[ 0.,  1.,  2.],\n",
              "       [10., 11., 12.],\n",
              "       [20., 21., 22.]])"
            ]
          },
          "metadata": {},
          "execution_count": 35
        }
      ]
    },
    {
      "cell_type": "code",
      "source": [
        "rng=np.random.default_rng()\n",
        "rng.random(5)"
      ],
      "metadata": {
        "colab": {
          "base_uri": "https://localhost:8080/"
        },
        "id": "gxT5amsRt2Wf",
        "outputId": "263f0300-fd83-42aa-a936-648beeaeb83d"
      },
      "execution_count": null,
      "outputs": [
        {
          "output_type": "execute_result",
          "data": {
            "text/plain": [
              "array([0.88778294, 0.74789303, 0.33874751, 0.39561674, 0.86447921])"
            ]
          },
          "metadata": {},
          "execution_count": 33
        }
      ]
    },
    {
      "cell_type": "code",
      "source": [
        "rng.normal(loc=0, scale=1, size=5)\n"
      ],
      "metadata": {
        "colab": {
          "base_uri": "https://localhost:8080/"
        },
        "id": "6QsWgZ2MuJf3",
        "outputId": "f1587505-d360-45d8-f947-61c114ac8d70"
      },
      "execution_count": null,
      "outputs": [
        {
          "output_type": "execute_result",
          "data": {
            "text/plain": [
              "array([-1.16038905,  0.29886994, -0.66765636,  0.48535152,  0.54906318])"
            ]
          },
          "metadata": {},
          "execution_count": 34
        }
      ]
    },
    {
      "cell_type": "code",
      "source": [
        "a=np.array([1,2,3,4,5,6,7,8,9,10,11,12])\n",
        "a=a.reshape(2,2,3)\n",
        "a"
      ],
      "metadata": {
        "colab": {
          "base_uri": "https://localhost:8080/"
        },
        "id": "Wd87mkzs_Dri",
        "outputId": "367eeed8-d8ec-4980-a6b8-e556cdce7a34"
      },
      "execution_count": null,
      "outputs": [
        {
          "output_type": "execute_result",
          "data": {
            "text/plain": [
              "array([[[ 1,  2,  3],\n",
              "        [ 4,  5,  6]],\n",
              "\n",
              "       [[ 7,  8,  9],\n",
              "        [10, 11, 12]]])"
            ]
          },
          "metadata": {},
          "execution_count": 39
        }
      ]
    },
    {
      "cell_type": "code",
      "source": [
        "a=np.arange(5)\n",
        "b=np.linspace(0,7,5,dtype=int)\n",
        "print(b-a)\n",
        "print(a**2)\n",
        "print(b>8)"
      ],
      "metadata": {
        "colab": {
          "base_uri": "https://localhost:8080/"
        },
        "id": "BR1Tq-yq_0-U",
        "outputId": "238956f9-e634-4ed1-d1f7-7d06be83d1bb"
      },
      "execution_count": null,
      "outputs": [
        {
          "output_type": "stream",
          "name": "stdout",
          "text": [
            "[0 0 1 2 3]\n",
            "[ 0  1  4  9 16]\n",
            "[False False False False False]\n"
          ]
        }
      ]
    },
    {
      "cell_type": "code",
      "source": [
        "ar1=np.arange(4).reshape(2,2)\n",
        "ar2=np.linspace(2,7,4,dtype=int).reshape(2,2)\n",
        "print(ar1)\n",
        "print(ar2)\n",
        "print(ar1*ar2)\n",
        "print(ar1@ar2)\n",
        "print(ar1.dot(ar2))"
      ],
      "metadata": {
        "colab": {
          "base_uri": "https://localhost:8080/"
        },
        "id": "y3SKXULvAJaY",
        "outputId": "15d9259a-46f5-44c9-957c-83b90a8fdfc6"
      },
      "execution_count": null,
      "outputs": [
        {
          "output_type": "stream",
          "name": "stdout",
          "text": [
            "[[0 1]\n",
            " [2 3]]\n",
            "[[2 3]\n",
            " [5 7]]\n",
            "[[ 0  3]\n",
            " [10 21]]\n",
            "[[ 5  7]\n",
            " [19 27]]\n",
            "[[ 5  7]\n",
            " [19 27]]\n"
          ]
        }
      ]
    },
    {
      "cell_type": "code",
      "source": [
        "a=np.eye(4)"
      ],
      "metadata": {
        "id": "w3MgcSlpI9ev"
      },
      "execution_count": 51,
      "outputs": []
    },
    {
      "cell_type": "code",
      "source": [
        "np.trace(a)"
      ],
      "metadata": {
        "colab": {
          "base_uri": "https://localhost:8080/"
        },
        "id": "mjMJ-GBwJAhC",
        "outputId": "480b706f-d6ed-4bc1-bc33-bce6d492dbdb"
      },
      "execution_count": 52,
      "outputs": [
        {
          "output_type": "execute_result",
          "data": {
            "text/plain": [
              "np.float64(4.0)"
            ]
          },
          "metadata": {},
          "execution_count": 52
        }
      ]
    },
    {
      "cell_type": "code",
      "source": [
        "np.min(arr1)"
      ],
      "metadata": {
        "colab": {
          "base_uri": "https://localhost:8080/"
        },
        "id": "ojnEz94SJ6ao",
        "outputId": "52ba7bac-1db8-422c-f2ab-135d4faecbb6"
      },
      "execution_count": 57,
      "outputs": [
        {
          "output_type": "execute_result",
          "data": {
            "text/plain": [
              "np.int8(1)"
            ]
          },
          "metadata": {},
          "execution_count": 57
        }
      ]
    },
    {
      "cell_type": "code",
      "source": [
        "b=np.arange(16).reshape(4,4)\n",
        "np.argmin(b)\n",
        "k=np.min(arr1)\n",
        "print(k)\n",
        "b"
      ],
      "metadata": {
        "colab": {
          "base_uri": "https://localhost:8080/"
        },
        "id": "KA5SMVUTJe9j",
        "outputId": "01e8f571-c739-418e-ae59-4f13cfb5e7ed"
      },
      "execution_count": 62,
      "outputs": [
        {
          "output_type": "stream",
          "name": "stdout",
          "text": [
            "1\n"
          ]
        },
        {
          "output_type": "execute_result",
          "data": {
            "text/plain": [
              "array([[ 0,  1,  2,  3],\n",
              "       [ 4,  5,  6,  7],\n",
              "       [ 8,  9, 10, 11],\n",
              "       [12, 13, 14, 15]])"
            ]
          },
          "metadata": {},
          "execution_count": 62
        }
      ]
    },
    {
      "cell_type": "code",
      "source": [
        "np.where(b<5,1,np.where(b==5,0,-1))"
      ],
      "metadata": {
        "colab": {
          "base_uri": "https://localhost:8080/"
        },
        "id": "cIkIfSK7K8Yp",
        "outputId": "8e8ce50b-40de-42e8-e5ec-152bb9a939fe"
      },
      "execution_count": 63,
      "outputs": [
        {
          "output_type": "execute_result",
          "data": {
            "text/plain": [
              "array([[ 1,  1,  1,  1],\n",
              "       [ 1,  0, -1, -1],\n",
              "       [-1, -1, -1, -1],\n",
              "       [-1, -1, -1, -1]])"
            ]
          },
          "metadata": {},
          "execution_count": 63
        }
      ]
    },
    {
      "cell_type": "code",
      "source": [
        "print(np.std(b))\n",
        "print(np.var(b))"
      ],
      "metadata": {
        "colab": {
          "base_uri": "https://localhost:8080/"
        },
        "id": "Dc_1-vH5MUva",
        "outputId": "92fd1183-42a6-4caf-ed34-5ae2cd7024e1"
      },
      "execution_count": 66,
      "outputs": [
        {
          "output_type": "stream",
          "name": "stdout",
          "text": [
            "4.6097722286464435\n",
            "21.25\n"
          ]
        }
      ]
    },
    {
      "cell_type": "code",
      "source": [
        "a2=np.arange(16).reshape(4,4)\n",
        "a2[::-1]\n",
        "a2[0:2,0:2]\n",
        "a3=np.arange(12).reshape(2,2,3)\n",
        "print(a3)\n",
        "a3[0,-1,-1]\n",
        "a3[0,0,0:-1:2]"
      ],
      "metadata": {
        "colab": {
          "base_uri": "https://localhost:8080/"
        },
        "id": "bbHGHkMhNX7L",
        "outputId": "a07f8eb0-5c56-4a06-e7b6-17b3f8ae8a73"
      },
      "execution_count": 76,
      "outputs": [
        {
          "output_type": "stream",
          "name": "stdout",
          "text": [
            "[[[ 0  1  2]\n",
            "  [ 3  4  5]]\n",
            "\n",
            " [[ 6  7  8]\n",
            "  [ 9 10 11]]]\n"
          ]
        },
        {
          "output_type": "execute_result",
          "data": {
            "text/plain": [
              "array([0])"
            ]
          },
          "metadata": {},
          "execution_count": 76
        }
      ]
    },
    {
      "cell_type": "code",
      "source": [
        "a3.reshape(12)\n",
        "a3.reshape(-1)\n",
        "a=np.arange(12).reshape(2,2,3)\n",
        "a.resize(12)\n",
        "print(a)"
      ],
      "metadata": {
        "colab": {
          "base_uri": "https://localhost:8080/"
        },
        "id": "ohtDI9vWUS77",
        "outputId": "9fa4d7e0-7fbf-4aab-9614-be6a50a8f77b"
      },
      "execution_count": 95,
      "outputs": [
        {
          "output_type": "stream",
          "name": "stdout",
          "text": [
            "[ 0  1  2  3  4  5  6  7  8  9 10 11]\n"
          ]
        }
      ]
    },
    {
      "cell_type": "code",
      "source": [
        "a=np.array([1,2,3])\n",
        "a.resize(6)\n",
        "a"
      ],
      "metadata": {
        "colab": {
          "base_uri": "https://localhost:8080/"
        },
        "id": "wuGOXx50U-hw",
        "outputId": "8c1f9075-a6b6-4abb-9699-fac77eb7d26d"
      },
      "execution_count": 85,
      "outputs": [
        {
          "output_type": "execute_result",
          "data": {
            "text/plain": [
              "array([1, 2, 3, 0, 0, 0])"
            ]
          },
          "metadata": {},
          "execution_count": 85
        }
      ]
    },
    {
      "cell_type": "code",
      "source": [
        "a=np.arange(12).reshape(2,2,3)\n",
        "print(a)\n",
        "print(a.ravel())"
      ],
      "metadata": {
        "colab": {
          "base_uri": "https://localhost:8080/"
        },
        "id": "pDYi3S0aWgoS",
        "outputId": "10402c97-3893-4706-c10e-288214719ab4"
      },
      "execution_count": 96,
      "outputs": [
        {
          "output_type": "stream",
          "name": "stdout",
          "text": [
            "[[[ 0  1  2]\n",
            "  [ 3  4  5]]\n",
            "\n",
            " [[ 6  7  8]\n",
            "  [ 9 10 11]]]\n",
            "[ 0  1  2  3  4  5  6  7  8  9 10 11]\n"
          ]
        }
      ]
    }
  ]
}