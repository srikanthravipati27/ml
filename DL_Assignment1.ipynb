{
  "nbformat": 4,
  "nbformat_minor": 0,
  "metadata": {
    "colab": {
      "provenance": [],
      "mount_file_id": "1xsXl4pxQEZO0OSQclfttU_DV6T4FlkPP",
      "authorship_tag": "ABX9TyMTFlRR5kWe2vRdmxs/DkhI",
      "include_colab_link": true
    },
    "kernelspec": {
      "name": "python3",
      "display_name": "Python 3"
    },
    "language_info": {
      "name": "python"
    }
  },
  "cells": [
    {
      "cell_type": "markdown",
      "metadata": {
        "id": "view-in-github",
        "colab_type": "text"
      },
      "source": [
        "<a href=\"https://colab.research.google.com/github/srikanthravipati27/ml/blob/main/DL_Assignment1.ipynb\" target=\"_parent\"><img src=\"https://colab.research.google.com/assets/colab-badge.svg\" alt=\"Open In Colab\"/></a>"
      ]
    },
    {
      "cell_type": "code",
      "execution_count": 264,
      "metadata": {
        "colab": {
          "base_uri": "https://localhost:8080/",
          "height": 206
        },
        "id": "PGSWrReVrGZE",
        "outputId": "3d0014f5-3dfb-4dc4-da42-0862d3232d18"
      },
      "outputs": [
        {
          "output_type": "execute_result",
          "data": {
            "text/plain": [
              "   CustomerID  Gender   Age  AnnualIncome  SpendingScore  TimeSpentInMall  \\\n",
              "0         1.0    Male   NaN           NaN           90.0             17.0   \n",
              "1         2.0  Female  19.0       69522.0           98.0            214.0   \n",
              "2         3.0    Male  23.0      119161.0           30.0            206.0   \n",
              "3         4.0    Male  45.0       24886.0            NaN            207.0   \n",
              "4         5.0     NaN  46.0      131249.0           60.0              NaN   \n",
              "\n",
              "   VisitsPerMonth  DistanceFromHome HasCreditCard Churn  \n",
              "0            12.0             22.52            No   Yes  \n",
              "1             NaN             21.17           Yes   Yes  \n",
              "2            22.0               NaN           Yes   Yes  \n",
              "3            25.0             18.68            No    No  \n",
              "4             NaN              5.50           Yes   Yes  "
            ],
            "text/html": [
              "\n",
              "  <div id=\"df-1ede4b40-8d99-4942-99a6-10f70a162738\" class=\"colab-df-container\">\n",
              "    <div>\n",
              "<style scoped>\n",
              "    .dataframe tbody tr th:only-of-type {\n",
              "        vertical-align: middle;\n",
              "    }\n",
              "\n",
              "    .dataframe tbody tr th {\n",
              "        vertical-align: top;\n",
              "    }\n",
              "\n",
              "    .dataframe thead th {\n",
              "        text-align: right;\n",
              "    }\n",
              "</style>\n",
              "<table border=\"1\" class=\"dataframe\">\n",
              "  <thead>\n",
              "    <tr style=\"text-align: right;\">\n",
              "      <th></th>\n",
              "      <th>CustomerID</th>\n",
              "      <th>Gender</th>\n",
              "      <th>Age</th>\n",
              "      <th>AnnualIncome</th>\n",
              "      <th>SpendingScore</th>\n",
              "      <th>TimeSpentInMall</th>\n",
              "      <th>VisitsPerMonth</th>\n",
              "      <th>DistanceFromHome</th>\n",
              "      <th>HasCreditCard</th>\n",
              "      <th>Churn</th>\n",
              "    </tr>\n",
              "  </thead>\n",
              "  <tbody>\n",
              "    <tr>\n",
              "      <th>0</th>\n",
              "      <td>1.0</td>\n",
              "      <td>Male</td>\n",
              "      <td>NaN</td>\n",
              "      <td>NaN</td>\n",
              "      <td>90.0</td>\n",
              "      <td>17.0</td>\n",
              "      <td>12.0</td>\n",
              "      <td>22.52</td>\n",
              "      <td>No</td>\n",
              "      <td>Yes</td>\n",
              "    </tr>\n",
              "    <tr>\n",
              "      <th>1</th>\n",
              "      <td>2.0</td>\n",
              "      <td>Female</td>\n",
              "      <td>19.0</td>\n",
              "      <td>69522.0</td>\n",
              "      <td>98.0</td>\n",
              "      <td>214.0</td>\n",
              "      <td>NaN</td>\n",
              "      <td>21.17</td>\n",
              "      <td>Yes</td>\n",
              "      <td>Yes</td>\n",
              "    </tr>\n",
              "    <tr>\n",
              "      <th>2</th>\n",
              "      <td>3.0</td>\n",
              "      <td>Male</td>\n",
              "      <td>23.0</td>\n",
              "      <td>119161.0</td>\n",
              "      <td>30.0</td>\n",
              "      <td>206.0</td>\n",
              "      <td>22.0</td>\n",
              "      <td>NaN</td>\n",
              "      <td>Yes</td>\n",
              "      <td>Yes</td>\n",
              "    </tr>\n",
              "    <tr>\n",
              "      <th>3</th>\n",
              "      <td>4.0</td>\n",
              "      <td>Male</td>\n",
              "      <td>45.0</td>\n",
              "      <td>24886.0</td>\n",
              "      <td>NaN</td>\n",
              "      <td>207.0</td>\n",
              "      <td>25.0</td>\n",
              "      <td>18.68</td>\n",
              "      <td>No</td>\n",
              "      <td>No</td>\n",
              "    </tr>\n",
              "    <tr>\n",
              "      <th>4</th>\n",
              "      <td>5.0</td>\n",
              "      <td>NaN</td>\n",
              "      <td>46.0</td>\n",
              "      <td>131249.0</td>\n",
              "      <td>60.0</td>\n",
              "      <td>NaN</td>\n",
              "      <td>NaN</td>\n",
              "      <td>5.50</td>\n",
              "      <td>Yes</td>\n",
              "      <td>Yes</td>\n",
              "    </tr>\n",
              "  </tbody>\n",
              "</table>\n",
              "</div>\n",
              "    <div class=\"colab-df-buttons\">\n",
              "\n",
              "  <div class=\"colab-df-container\">\n",
              "    <button class=\"colab-df-convert\" onclick=\"convertToInteractive('df-1ede4b40-8d99-4942-99a6-10f70a162738')\"\n",
              "            title=\"Convert this dataframe to an interactive table.\"\n",
              "            style=\"display:none;\">\n",
              "\n",
              "  <svg xmlns=\"http://www.w3.org/2000/svg\" height=\"24px\" viewBox=\"0 -960 960 960\">\n",
              "    <path d=\"M120-120v-720h720v720H120Zm60-500h600v-160H180v160Zm220 220h160v-160H400v160Zm0 220h160v-160H400v160ZM180-400h160v-160H180v160Zm440 0h160v-160H620v160ZM180-180h160v-160H180v160Zm440 0h160v-160H620v160Z\"/>\n",
              "  </svg>\n",
              "    </button>\n",
              "\n",
              "  <style>\n",
              "    .colab-df-container {\n",
              "      display:flex;\n",
              "      gap: 12px;\n",
              "    }\n",
              "\n",
              "    .colab-df-convert {\n",
              "      background-color: #E8F0FE;\n",
              "      border: none;\n",
              "      border-radius: 50%;\n",
              "      cursor: pointer;\n",
              "      display: none;\n",
              "      fill: #1967D2;\n",
              "      height: 32px;\n",
              "      padding: 0 0 0 0;\n",
              "      width: 32px;\n",
              "    }\n",
              "\n",
              "    .colab-df-convert:hover {\n",
              "      background-color: #E2EBFA;\n",
              "      box-shadow: 0px 1px 2px rgba(60, 64, 67, 0.3), 0px 1px 3px 1px rgba(60, 64, 67, 0.15);\n",
              "      fill: #174EA6;\n",
              "    }\n",
              "\n",
              "    .colab-df-buttons div {\n",
              "      margin-bottom: 4px;\n",
              "    }\n",
              "\n",
              "    [theme=dark] .colab-df-convert {\n",
              "      background-color: #3B4455;\n",
              "      fill: #D2E3FC;\n",
              "    }\n",
              "\n",
              "    [theme=dark] .colab-df-convert:hover {\n",
              "      background-color: #434B5C;\n",
              "      box-shadow: 0px 1px 3px 1px rgba(0, 0, 0, 0.15);\n",
              "      filter: drop-shadow(0px 1px 2px rgba(0, 0, 0, 0.3));\n",
              "      fill: #FFFFFF;\n",
              "    }\n",
              "  </style>\n",
              "\n",
              "    <script>\n",
              "      const buttonEl =\n",
              "        document.querySelector('#df-1ede4b40-8d99-4942-99a6-10f70a162738 button.colab-df-convert');\n",
              "      buttonEl.style.display =\n",
              "        google.colab.kernel.accessAllowed ? 'block' : 'none';\n",
              "\n",
              "      async function convertToInteractive(key) {\n",
              "        const element = document.querySelector('#df-1ede4b40-8d99-4942-99a6-10f70a162738');\n",
              "        const dataTable =\n",
              "          await google.colab.kernel.invokeFunction('convertToInteractive',\n",
              "                                                    [key], {});\n",
              "        if (!dataTable) return;\n",
              "\n",
              "        const docLinkHtml = 'Like what you see? Visit the ' +\n",
              "          '<a target=\"_blank\" href=https://colab.research.google.com/notebooks/data_table.ipynb>data table notebook</a>'\n",
              "          + ' to learn more about interactive tables.';\n",
              "        element.innerHTML = '';\n",
              "        dataTable['output_type'] = 'display_data';\n",
              "        await google.colab.output.renderOutput(dataTable, element);\n",
              "        const docLink = document.createElement('div');\n",
              "        docLink.innerHTML = docLinkHtml;\n",
              "        element.appendChild(docLink);\n",
              "      }\n",
              "    </script>\n",
              "  </div>\n",
              "\n",
              "\n",
              "    <div id=\"df-113fe34e-9837-4136-a06a-bb2eef1e49f6\">\n",
              "      <button class=\"colab-df-quickchart\" onclick=\"quickchart('df-113fe34e-9837-4136-a06a-bb2eef1e49f6')\"\n",
              "                title=\"Suggest charts\"\n",
              "                style=\"display:none;\">\n",
              "\n",
              "<svg xmlns=\"http://www.w3.org/2000/svg\" height=\"24px\"viewBox=\"0 0 24 24\"\n",
              "     width=\"24px\">\n",
              "    <g>\n",
              "        <path d=\"M19 3H5c-1.1 0-2 .9-2 2v14c0 1.1.9 2 2 2h14c1.1 0 2-.9 2-2V5c0-1.1-.9-2-2-2zM9 17H7v-7h2v7zm4 0h-2V7h2v10zm4 0h-2v-4h2v4z\"/>\n",
              "    </g>\n",
              "</svg>\n",
              "      </button>\n",
              "\n",
              "<style>\n",
              "  .colab-df-quickchart {\n",
              "      --bg-color: #E8F0FE;\n",
              "      --fill-color: #1967D2;\n",
              "      --hover-bg-color: #E2EBFA;\n",
              "      --hover-fill-color: #174EA6;\n",
              "      --disabled-fill-color: #AAA;\n",
              "      --disabled-bg-color: #DDD;\n",
              "  }\n",
              "\n",
              "  [theme=dark] .colab-df-quickchart {\n",
              "      --bg-color: #3B4455;\n",
              "      --fill-color: #D2E3FC;\n",
              "      --hover-bg-color: #434B5C;\n",
              "      --hover-fill-color: #FFFFFF;\n",
              "      --disabled-bg-color: #3B4455;\n",
              "      --disabled-fill-color: #666;\n",
              "  }\n",
              "\n",
              "  .colab-df-quickchart {\n",
              "    background-color: var(--bg-color);\n",
              "    border: none;\n",
              "    border-radius: 50%;\n",
              "    cursor: pointer;\n",
              "    display: none;\n",
              "    fill: var(--fill-color);\n",
              "    height: 32px;\n",
              "    padding: 0;\n",
              "    width: 32px;\n",
              "  }\n",
              "\n",
              "  .colab-df-quickchart:hover {\n",
              "    background-color: var(--hover-bg-color);\n",
              "    box-shadow: 0 1px 2px rgba(60, 64, 67, 0.3), 0 1px 3px 1px rgba(60, 64, 67, 0.15);\n",
              "    fill: var(--button-hover-fill-color);\n",
              "  }\n",
              "\n",
              "  .colab-df-quickchart-complete:disabled,\n",
              "  .colab-df-quickchart-complete:disabled:hover {\n",
              "    background-color: var(--disabled-bg-color);\n",
              "    fill: var(--disabled-fill-color);\n",
              "    box-shadow: none;\n",
              "  }\n",
              "\n",
              "  .colab-df-spinner {\n",
              "    border: 2px solid var(--fill-color);\n",
              "    border-color: transparent;\n",
              "    border-bottom-color: var(--fill-color);\n",
              "    animation:\n",
              "      spin 1s steps(1) infinite;\n",
              "  }\n",
              "\n",
              "  @keyframes spin {\n",
              "    0% {\n",
              "      border-color: transparent;\n",
              "      border-bottom-color: var(--fill-color);\n",
              "      border-left-color: var(--fill-color);\n",
              "    }\n",
              "    20% {\n",
              "      border-color: transparent;\n",
              "      border-left-color: var(--fill-color);\n",
              "      border-top-color: var(--fill-color);\n",
              "    }\n",
              "    30% {\n",
              "      border-color: transparent;\n",
              "      border-left-color: var(--fill-color);\n",
              "      border-top-color: var(--fill-color);\n",
              "      border-right-color: var(--fill-color);\n",
              "    }\n",
              "    40% {\n",
              "      border-color: transparent;\n",
              "      border-right-color: var(--fill-color);\n",
              "      border-top-color: var(--fill-color);\n",
              "    }\n",
              "    60% {\n",
              "      border-color: transparent;\n",
              "      border-right-color: var(--fill-color);\n",
              "    }\n",
              "    80% {\n",
              "      border-color: transparent;\n",
              "      border-right-color: var(--fill-color);\n",
              "      border-bottom-color: var(--fill-color);\n",
              "    }\n",
              "    90% {\n",
              "      border-color: transparent;\n",
              "      border-bottom-color: var(--fill-color);\n",
              "    }\n",
              "  }\n",
              "</style>\n",
              "\n",
              "      <script>\n",
              "        async function quickchart(key) {\n",
              "          const quickchartButtonEl =\n",
              "            document.querySelector('#' + key + ' button');\n",
              "          quickchartButtonEl.disabled = true;  // To prevent multiple clicks.\n",
              "          quickchartButtonEl.classList.add('colab-df-spinner');\n",
              "          try {\n",
              "            const charts = await google.colab.kernel.invokeFunction(\n",
              "                'suggestCharts', [key], {});\n",
              "          } catch (error) {\n",
              "            console.error('Error during call to suggestCharts:', error);\n",
              "          }\n",
              "          quickchartButtonEl.classList.remove('colab-df-spinner');\n",
              "          quickchartButtonEl.classList.add('colab-df-quickchart-complete');\n",
              "        }\n",
              "        (() => {\n",
              "          let quickchartButtonEl =\n",
              "            document.querySelector('#df-113fe34e-9837-4136-a06a-bb2eef1e49f6 button');\n",
              "          quickchartButtonEl.style.display =\n",
              "            google.colab.kernel.accessAllowed ? 'block' : 'none';\n",
              "        })();\n",
              "      </script>\n",
              "    </div>\n",
              "\n",
              "    </div>\n",
              "  </div>\n"
            ],
            "application/vnd.google.colaboratory.intrinsic+json": {
              "type": "dataframe",
              "variable_name": "data",
              "summary": "{\n  \"name\": \"data\",\n  \"rows\": 3000,\n  \"fields\": [\n    {\n      \"column\": \"CustomerID\",\n      \"properties\": {\n        \"dtype\": \"number\",\n        \"std\": 867.3922139355185,\n        \"min\": 1.0,\n        \"max\": 3000.0,\n        \"num_unique_values\": 2700,\n        \"samples\": [\n          1495.0,\n          1370.0,\n          1236.0\n        ],\n        \"semantic_type\": \"\",\n        \"description\": \"\"\n      }\n    },\n    {\n      \"column\": \"Gender\",\n      \"properties\": {\n        \"dtype\": \"category\",\n        \"num_unique_values\": 2,\n        \"samples\": [\n          \"Female\",\n          \"Male\"\n        ],\n        \"semantic_type\": \"\",\n        \"description\": \"\"\n      }\n    },\n    {\n      \"column\": \"Age\",\n      \"properties\": {\n        \"dtype\": \"number\",\n        \"std\": 15.048217367431034,\n        \"min\": 18.0,\n        \"max\": 69.0,\n        \"num_unique_values\": 52,\n        \"samples\": [\n          38.0,\n          41.0\n        ],\n        \"semantic_type\": \"\",\n        \"description\": \"\"\n      }\n    },\n    {\n      \"column\": \"AnnualIncome\",\n      \"properties\": {\n        \"dtype\": \"number\",\n        \"std\": 37906.63178722709,\n        \"min\": 20060.0,\n        \"max\": 149900.0,\n        \"num_unique_values\": 2673,\n        \"samples\": [\n          117905.0,\n          74460.0\n        ],\n        \"semantic_type\": \"\",\n        \"description\": \"\"\n      }\n    },\n    {\n      \"column\": \"SpendingScore\",\n      \"properties\": {\n        \"dtype\": \"number\",\n        \"std\": 28.607755684701072,\n        \"min\": 1.0,\n        \"max\": 99.0,\n        \"num_unique_values\": 99,\n        \"samples\": [\n          53.0,\n          21.0\n        ],\n        \"semantic_type\": \"\",\n        \"description\": \"\"\n      }\n    },\n    {\n      \"column\": \"TimeSpentInMall\",\n      \"properties\": {\n        \"dtype\": \"number\",\n        \"std\": 84.17430772634708,\n        \"min\": 10.0,\n        \"max\": 299.0,\n        \"num_unique_values\": 290,\n        \"samples\": [\n          219.0,\n          241.0\n        ],\n        \"semantic_type\": \"\",\n        \"description\": \"\"\n      }\n    },\n    {\n      \"column\": \"VisitsPerMonth\",\n      \"properties\": {\n        \"dtype\": \"number\",\n        \"std\": 8.192278284468937,\n        \"min\": 1.0,\n        \"max\": 29.0,\n        \"num_unique_values\": 29,\n        \"samples\": [\n          1.0,\n          27.0\n        ],\n        \"semantic_type\": \"\",\n        \"description\": \"\"\n      }\n    },\n    {\n      \"column\": \"DistanceFromHome\",\n      \"properties\": {\n        \"dtype\": \"number\",\n        \"std\": 14.381994371951944,\n        \"min\": 0.11,\n        \"max\": 49.99,\n        \"num_unique_values\": 2072,\n        \"samples\": [\n          37.24,\n          45.8\n        ],\n        \"semantic_type\": \"\",\n        \"description\": \"\"\n      }\n    },\n    {\n      \"column\": \"HasCreditCard\",\n      \"properties\": {\n        \"dtype\": \"category\",\n        \"num_unique_values\": 2,\n        \"samples\": [\n          \"Yes\",\n          \"No\"\n        ],\n        \"semantic_type\": \"\",\n        \"description\": \"\"\n      }\n    },\n    {\n      \"column\": \"Churn\",\n      \"properties\": {\n        \"dtype\": \"category\",\n        \"num_unique_values\": 2,\n        \"samples\": [\n          \"No\",\n          \"Yes\"\n        ],\n        \"semantic_type\": \"\",\n        \"description\": \"\"\n      }\n    }\n  ]\n}"
            }
          },
          "metadata": {},
          "execution_count": 264
        }
      ],
      "source": [
        "import pandas as pd\n",
        "import numpy as np\n",
        "data=pd.read_csv(\"/content/drive/MyDrive/customer_churn_dataset.csv\")\n",
        "data.head()"
      ]
    },
    {
      "cell_type": "code",
      "source": [
        "data.info()"
      ],
      "metadata": {
        "colab": {
          "base_uri": "https://localhost:8080/"
        },
        "id": "9nA-g6Tarr2a",
        "outputId": "3f32b845-5763-4f60-fdc4-c5da3abf7b39"
      },
      "execution_count": 265,
      "outputs": [
        {
          "output_type": "stream",
          "name": "stdout",
          "text": [
            "<class 'pandas.core.frame.DataFrame'>\n",
            "RangeIndex: 3000 entries, 0 to 2999\n",
            "Data columns (total 10 columns):\n",
            " #   Column            Non-Null Count  Dtype  \n",
            "---  ------            --------------  -----  \n",
            " 0   CustomerID        2700 non-null   float64\n",
            " 1   Gender            2569 non-null   object \n",
            " 2   Age               2700 non-null   float64\n",
            " 3   AnnualIncome      2700 non-null   float64\n",
            " 4   SpendingScore     2700 non-null   float64\n",
            " 5   TimeSpentInMall   2700 non-null   float64\n",
            " 6   VisitsPerMonth    2700 non-null   float64\n",
            " 7   DistanceFromHome  2700 non-null   float64\n",
            " 8   HasCreditCard     2560 non-null   object \n",
            " 9   Churn             2565 non-null   object \n",
            "dtypes: float64(7), object(3)\n",
            "memory usage: 234.5+ KB\n"
          ]
        }
      ]
    },
    {
      "cell_type": "code",
      "source": [
        "data.isnull().sum()"
      ],
      "metadata": {
        "colab": {
          "base_uri": "https://localhost:8080/",
          "height": 397
        },
        "id": "QE9A-x_4s_lz",
        "outputId": "5ae5dca9-32be-4099-9c3e-2699e494e1ee"
      },
      "execution_count": 266,
      "outputs": [
        {
          "output_type": "execute_result",
          "data": {
            "text/plain": [
              "CustomerID          300\n",
              "Gender              431\n",
              "Age                 300\n",
              "AnnualIncome        300\n",
              "SpendingScore       300\n",
              "TimeSpentInMall     300\n",
              "VisitsPerMonth      300\n",
              "DistanceFromHome    300\n",
              "HasCreditCard       440\n",
              "Churn               435\n",
              "dtype: int64"
            ],
            "text/html": [
              "<div>\n",
              "<style scoped>\n",
              "    .dataframe tbody tr th:only-of-type {\n",
              "        vertical-align: middle;\n",
              "    }\n",
              "\n",
              "    .dataframe tbody tr th {\n",
              "        vertical-align: top;\n",
              "    }\n",
              "\n",
              "    .dataframe thead th {\n",
              "        text-align: right;\n",
              "    }\n",
              "</style>\n",
              "<table border=\"1\" class=\"dataframe\">\n",
              "  <thead>\n",
              "    <tr style=\"text-align: right;\">\n",
              "      <th></th>\n",
              "      <th>0</th>\n",
              "    </tr>\n",
              "  </thead>\n",
              "  <tbody>\n",
              "    <tr>\n",
              "      <th>CustomerID</th>\n",
              "      <td>300</td>\n",
              "    </tr>\n",
              "    <tr>\n",
              "      <th>Gender</th>\n",
              "      <td>431</td>\n",
              "    </tr>\n",
              "    <tr>\n",
              "      <th>Age</th>\n",
              "      <td>300</td>\n",
              "    </tr>\n",
              "    <tr>\n",
              "      <th>AnnualIncome</th>\n",
              "      <td>300</td>\n",
              "    </tr>\n",
              "    <tr>\n",
              "      <th>SpendingScore</th>\n",
              "      <td>300</td>\n",
              "    </tr>\n",
              "    <tr>\n",
              "      <th>TimeSpentInMall</th>\n",
              "      <td>300</td>\n",
              "    </tr>\n",
              "    <tr>\n",
              "      <th>VisitsPerMonth</th>\n",
              "      <td>300</td>\n",
              "    </tr>\n",
              "    <tr>\n",
              "      <th>DistanceFromHome</th>\n",
              "      <td>300</td>\n",
              "    </tr>\n",
              "    <tr>\n",
              "      <th>HasCreditCard</th>\n",
              "      <td>440</td>\n",
              "    </tr>\n",
              "    <tr>\n",
              "      <th>Churn</th>\n",
              "      <td>435</td>\n",
              "    </tr>\n",
              "  </tbody>\n",
              "</table>\n",
              "</div><br><label><b>dtype:</b> int64</label>"
            ]
          },
          "metadata": {},
          "execution_count": 266
        }
      ]
    },
    {
      "cell_type": "code",
      "source": [
        "data=data.drop('CustomerID',axis=1)"
      ],
      "metadata": {
        "id": "tNvgIAedtS4C"
      },
      "execution_count": 267,
      "outputs": []
    },
    {
      "cell_type": "code",
      "source": [
        "data['Gender']=data['Gender'].fillna(data['Gender'].mode()[0]);\n",
        "data['Age']=data['Age'].fillna(data['Age'].mean())\n",
        "data['AnnualIncome']=data['AnnualIncome'].fillna(data['AnnualIncome'].mean())\n",
        "data['SpendingScore']=data['SpendingScore'].fillna(data['SpendingScore'].mean())\n",
        "data['TimeSpentInMall']=data['TimeSpentInMall'].fillna(data['TimeSpentInMall'].mean())\n",
        "data['VisitsPerMonth']=data['VisitsPerMonth'].fillna(data['VisitsPerMonth'].mean())\n",
        "data['DistanceFromHome']=data['DistanceFromHome'].fillna(data['DistanceFromHome'].mean())\n",
        "data['HasCreditCard']=data['HasCreditCard'].fillna(data['HasCreditCard'].mode()[0])\n",
        "data['Churn']=data['Churn'].fillna(data['Churn'].mode()[0])"
      ],
      "metadata": {
        "id": "2Vxc_2fQtdHd"
      },
      "execution_count": 268,
      "outputs": []
    },
    {
      "cell_type": "code",
      "source": [
        "data['HasCreditCard']=data['HasCreditCard'].map({'Yes':1,'No':0})\n",
        "data['Churn']=data['Churn'].map({'Yes':1,'No':0})\n"
      ],
      "metadata": {
        "id": "dIMk7JaBzJJj"
      },
      "execution_count": 269,
      "outputs": []
    },
    {
      "cell_type": "code",
      "source": [
        "data=pd.get_dummies(data,columns=['Gender'])\n",
        "x=data.drop('Churn',axis=1)\n",
        "y=data['Churn'].values.reshape(-1,1)\n",
        "y"
      ],
      "metadata": {
        "colab": {
          "base_uri": "https://localhost:8080/"
        },
        "id": "VTYvMQpqz8sj",
        "outputId": "e5419eed-271e-408a-9687-92aab2725c92"
      },
      "execution_count": 270,
      "outputs": [
        {
          "output_type": "execute_result",
          "data": {
            "text/plain": [
              "array([[1],\n",
              "       [1],\n",
              "       [1],\n",
              "       ...,\n",
              "       [0],\n",
              "       [1],\n",
              "       [0]])"
            ]
          },
          "metadata": {},
          "execution_count": 270
        }
      ]
    },
    {
      "cell_type": "code",
      "source": [
        "from sklearn.preprocessing import StandardScaler\n",
        "sc=StandardScaler()\n",
        "x=sc.fit_transform(x)\n"
      ],
      "metadata": {
        "id": "pcWNPwH32L0C"
      },
      "execution_count": 271,
      "outputs": []
    },
    {
      "cell_type": "code",
      "source": [
        "import torch"
      ],
      "metadata": {
        "id": "hD-sXfc62cSG"
      },
      "execution_count": 272,
      "outputs": []
    },
    {
      "cell_type": "code",
      "source": [
        "x=torch.tensor(x,dtype=torch.float32)\n",
        "y=torch.tensor(y,dtype=torch.float32)\n",
        "input_dimension=x.shape[1]\n",
        "output_dimension=1\n",
        "torch.manual_seed(42)\n",
        "weights1=torch.randn(input_dimension,output_dimension,requires_grad=True)\n",
        "bias1=torch.randn(1,requires_grad=True)\n",
        "\n"
      ],
      "metadata": {
        "id": "fAg1SgFk-juC"
      },
      "execution_count": 273,
      "outputs": []
    },
    {
      "cell_type": "code",
      "source": [
        "epoches=800\n",
        "lr=0.1\n",
        "def relu(z):\n",
        "  return torch.max(z,torch.tensor(0.0))\n",
        "def BCE(y_pred,y):\n",
        "  e=1e-7\n",
        "  return -(y*torch.log(y_pred+e)+(1-y)*torch.log(1-y_pred+e)).mean()"
      ],
      "metadata": {
        "id": "8GPKXAGiAis3"
      },
      "execution_count": 274,
      "outputs": []
    },
    {
      "cell_type": "code",
      "source": [
        "relu_loss=[]\n",
        "for i in range(epoches):\n",
        "  z=x@weights1+bias1\n",
        "  y_pred=relu(z)\n",
        "  y_pred=torch.clamp(y_pred,1e-5,1-1e-5)\n",
        "  loss=BCE(y_pred,y)\n",
        "  loss.backward()\n",
        "  with torch.no_grad():\n",
        "    weights1-=lr*weights1.grad\n",
        "    bias1-=lr*bias1.grad\n",
        "  weights1.grad.zero_()\n",
        "  bias1.grad.zero_()\n",
        "  relu_loss.append(loss.item())\n",
        "relu_loss[-1]"
      ],
      "metadata": {
        "colab": {
          "base_uri": "https://localhost:8080/"
        },
        "id": "sbnri1WNUJoK",
        "outputId": "ecba2eaa-fa22-4650-f750-59b6027f96c2"
      },
      "execution_count": 275,
      "outputs": [
        {
          "output_type": "execute_result",
          "data": {
            "text/plain": [
              "5.291056156158447"
            ]
          },
          "metadata": {},
          "execution_count": 275
        }
      ]
    },
    {
      "cell_type": "code",
      "source": [
        "torch.manual_seed(42)\n",
        "weights2=torch.randn(input_dimension,output_dimension,requires_grad=True)\n",
        "bias2=torch.randn(1,requires_grad=True)\n",
        "def sigmoid(z):\n",
        "  return 1/(1+torch.exp(-z))\n"
      ],
      "metadata": {
        "id": "E9SoeNHQF9La"
      },
      "execution_count": 276,
      "outputs": []
    },
    {
      "cell_type": "code",
      "source": [
        "sigmoid_loss=[]\n",
        "for i in range(epoches):\n",
        "  z=x@weights2+bias2\n",
        "  y_pred=sigmoid(z)\n",
        "\n",
        "  loss=BCE(y_pred,y)\n",
        "  loss.backward()\n",
        "  with torch.no_grad():\n",
        "    weights2-=lr*weights2.grad\n",
        "    bias2-=lr*bias2.grad\n",
        "  weights2.grad.zero_()\n",
        "  bias2.grad.zero_()\n",
        "  sigmoid_loss.append(loss.item())\n",
        "sigmoid_loss[-1]\n"
      ],
      "metadata": {
        "colab": {
          "base_uri": "https://localhost:8080/"
        },
        "id": "izlYSneYGMb6",
        "outputId": "42c2ecf5-ec8f-4246-a820-e20a564cffba"
      },
      "execution_count": 277,
      "outputs": [
        {
          "output_type": "execute_result",
          "data": {
            "text/plain": [
              "0.6772196292877197"
            ]
          },
          "metadata": {},
          "execution_count": 277
        }
      ]
    },
    {
      "cell_type": "code",
      "source": [
        "import matplotlib.pyplot as plt\n",
        "\n",
        "plt.figure(figsize=(10, 5))\n",
        "plt.plot(relu_loss, label='ReLU')\n",
        "plt.plot(sigmoid_loss, label='Sigmoid')\n",
        "plt.xlabel('Epoch')\n",
        "plt.ylabel('Binary Cross Entropy Loss')\n",
        "plt.title('ReLU vs Sigmoid - Loss Curve')\n",
        "plt.legend()\n",
        "plt.grid()\n",
        "plt.show()"
      ],
      "metadata": {
        "colab": {
          "base_uri": "https://localhost:8080/",
          "height": 487
        },
        "id": "icxsA57EHsYr",
        "outputId": "7da97cde-2e98-4b80-84d4-b90d09fec7ce"
      },
      "execution_count": 278,
      "outputs": [
        {
          "output_type": "display_data",
          "data": {
            "text/plain": [
              "<Figure size 1000x500 with 1 Axes>"
            ],
            "image/png": "[encoded data removed]"
          },
          "metadata": {}
        }
      ]
    }
  ]
}